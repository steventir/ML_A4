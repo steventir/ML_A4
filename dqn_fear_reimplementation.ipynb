{
 "cells": [
  {
   "cell_type": "code",
   "execution_count": 109,
   "metadata": {},
   "outputs": [],
   "source": [
    "import gym\n",
    "import random\n",
    "import numpy as np\n",
    "import tensorflow as tf\n",
    "from collections import deque\n",
    "\n",
    "ENV_NAME = \"CartPole-v0\"\n",
    "\n",
    "# FEAR MODEL\n",
    "fear_on = False\n",
    "fear_radius = 5\n",
    "fear_factor = 0.5\n",
    "fear_linear = 1000000\n",
    "fear_warmup = 20000\n",
    "\n",
    "# DQN\n",
    "GAMMA = 0.99 # Discount factor\n",
    "INITIAL_EPSILON = 1.0 # Initial value for epsilon-greedy\n",
    "FINAL_EPSILON = 0.1 # Final value for epsilon-greedy\n",
    "EXPLORATION_STEPS = 10000 # Number of steps till epsilon reaches its final value\n",
    "MEMORY_REPLAY_SIZE = 10000\n",
    "BATCH_SIZE = 32\n",
    "\n",
    "class Agent():\n",
    "    def __init__(self, env):\n",
    "        self.num_actions = env.action_space.n\n",
    "        self.num_observations = env.observation_space.shape[0]\n",
    "        self.epsilon = INITIAL_EPSILON\n",
    "        self.epsilon_step = (INITIAL_EPSILON - FINAL_EPSILON) / EXPLORATION_STEPS\n",
    "        self.time_step = 0\n",
    "        \n",
    "        # Create memory buffer for replay\n",
    "        self.memory_replay = deque()\n",
    "        \n",
    "        # Create Q network\n",
    "        self.build_network()\n",
    "#         self.build_training_ops()\n",
    "        \n",
    "    def build_network(self):\n",
    "        W1 = tf.Variable(tf.truncated_normal([self.num_observations,16]))\n",
    "        print(W1)\n",
    "        b1 = tf.Variable(0.01, dtype=tf.float32)\n",
    "        W2 = tf.Variable(tf.truncated_normal([16,self.num_actions]))\n",
    "        print(W2)\n",
    "        b2 = tf.Variable(0.01, dtype=tf.float32)\n",
    "        \n",
    "        self.state_input = tf.placeholder(dtype=tf.float32)\n",
    "        hidden_layer = tf.nn.relu(tf.matmul(self.state_input,W1) + b1)\n",
    "        self.q_values = tf.matmul(hidden_layer, W2) + b2\n",
    "        \n",
    "        sess = tf.Session()\n",
    "        sess.run(tf.global_variables_initializer())\n",
    "        print(sess.run(self.q_values, {self.state_input:np.array([[1.0,2.0,3.0,4.0]])}))\n",
    "        \n",
    "        "
   ]
  },
  {
   "cell_type": "code",
   "execution_count": 110,
   "metadata": {
    "scrolled": false
   },
   "outputs": [
    {
     "name": "stdout",
     "output_type": "stream",
     "text": [
      "Tensor(\"Variable_104/read:0\", shape=(4, 16), dtype=float32)\n",
      "Tensor(\"Variable_106/read:0\", shape=(16, 2), dtype=float32)\n",
      "[[ 5.68734646 -0.11587977]]\n",
      "(2, 4)\n"
     ]
    }
   ],
   "source": [
    "env = gym.make(ENV_NAME)\n",
    "agent = Agent(env)\n",
    "print(agent.num_actions, agent.num_observations)"
   ]
  },
  {
   "cell_type": "code",
   "execution_count": null,
   "metadata": {},
   "outputs": [],
   "source": []
  },
  {
   "cell_type": "code",
   "execution_count": null,
   "metadata": {},
   "outputs": [],
   "source": []
  }
 ],
 "metadata": {
  "kernelspec": {
   "display_name": "Python 2",
   "language": "python",
   "name": "python2"
  },
  "language_info": {
   "codemirror_mode": {
    "name": "ipython",
    "version": 2
   },
   "file_extension": ".py",
   "mimetype": "text/x-python",
   "name": "python",
   "nbconvert_exporter": "python",
   "pygments_lexer": "ipython2",
   "version": "2.7.10"
  }
 },
 "nbformat": 4,
 "nbformat_minor": 2
}
